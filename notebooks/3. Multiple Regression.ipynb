{
 "cells": [
  {
   "cell_type": "markdown",
   "metadata": {},
   "source": [
    "# Multiple Regression\n",
    "\n",
    "## Biased About the Status Quo Study\n",
    "\n",
    "Read about the study as described in the activity sheet.\n",
    "\n",
    "The first thing we must do is load the pandas and sklearn modules. sklearn contains the linear_model library which allows us to fit linear regression models."
   ]
  },
  {
   "cell_type": "code",
   "execution_count": 1,
   "metadata": {
    "collapsed": true
   },
   "outputs": [],
   "source": [
    "import pandas as pd\n",
    "from sklearn import linear_model # import the linear regression model library"
   ]
  },
  {
   "cell_type": "markdown",
   "metadata": {},
   "source": [
    "### Load data\n",
    "\n",
    "The next thing to do is load the data from the .csv file. Examine what is printed to make sure that it matches the data file and nothing is wrong."
   ]
  },
  {
   "cell_type": "code",
   "execution_count": 16,
   "metadata": {},
   "outputs": [
    {
     "name": "stdout",
     "output_type": "stream",
     "text": [
      "   excluded  RavensProgressiveMatrix_sum  Inherence_Bias  Should_Score  \\\n",
      "0         0                            5        7.666667      6.333333   \n",
      "1         1                            5        7.333333      6.666667   \n",
      "2         0                            4        5.333333      5.666667   \n",
      "3         0                            2        5.800000      8.000000   \n",
      "4         0                            2        4.266667      7.000000   \n",
      "\n",
      "   Good_Score  Ought_Score  Belief_in_Just_World  \\\n",
      "0    6.666667     6.500000                  5.65   \n",
      "1    8.000000     7.333333                  4.60   \n",
      "2    2.666667     4.166667                  4.20   \n",
      "3    7.666667     7.833333                  4.85   \n",
      "4    3.666667     5.333333                  4.65   \n",
      "\n",
      "   instructionsâ onthefollowingscreensyouwillbeaskedtofilloutseve  \\\n",
      "0                                                  1                \n",
      "1                                                  1                \n",
      "2                                                  1                \n",
      "3                                                  1                \n",
      "4                                                  1                \n",
      "\n",
      "   startnextsurvey  \\\n",
      "0                1   \n",
      "1                1   \n",
      "2                1   \n",
      "3                1   \n",
      "4                1   \n",
      "\n",
      "   pleasereadthestatementsonthefollowingpages.thinkcarefullyaboutho    ...     \\\n",
      "0                                                  1                   ...      \n",
      "1                                                  1                   ...      \n",
      "2                                                  1                   ...      \n",
      "3                                                  1                   ...      \n",
      "4                                                  1                   ...      \n",
      "\n",
      "   age  conserv  english  \\\n",
      "0   26        7        1   \n",
      "1   28        3        1   \n",
      "2   35        6        1   \n",
      "3   48        7        1   \n",
      "4   45        5        1   \n",
      "\n",
      "   thankyouforparticipating.pleaseanswerthefollowingfewquestionstoh  \\\n",
      "0                                                  1                  \n",
      "1                                                  1                  \n",
      "2                                                  1                  \n",
      "3                                                  1                  \n",
      "4                                                  1                  \n",
      "\n",
      "   @1.didyoufindanyaspectoftheprocedureoddorconfusing  \\\n",
      "0                                                 no    \n",
      "1               not at all; it was very enlightening    \n",
      "2                                                 No    \n",
      "3        Not really. The surveys were nothing alike.    \n",
      "4                                        Not really.    \n",
      "\n",
      "                    @2.whatdidyouthinkwewerestudying  \\\n",
      "0                                             unsure   \n",
      "1             opinions across different demographics   \n",
      "2  Patience for answering narrative questions aft...   \n",
      "3  I dont know. Americas habits and buying trends...   \n",
      "4                                          Not sure.   \n",
      "\n",
      "   @3.doyouthinkthattheremayhavebeenmoretothisstudythanmeetstheeyei  \\\n",
      "0                                yes but unsure what                  \n",
      "1                                  i dont believe so                  \n",
      "2                                                No.                  \n",
      "3  No it was kinda odd that the parts were so dif...                  \n",
      "4                            Yes, but not sure what.                  \n",
      "\n",
      "   @4.doyouhaveanyadditionalthoughtsorcommentsaboutthestudy  attention  \\\n",
      "0                                                 no                 1   \n",
      "1                                        none at all                 1   \n",
      "2                                                 No                 1   \n",
      "3                                                 No                 1   \n",
      "4                                               Nope                 1   \n",
      "\n",
      "   filter_$  \n",
      "0         1  \n",
      "1         0  \n",
      "2         1  \n",
      "3         1  \n",
      "4         1  \n",
      "\n",
      "[5 rows x 191 columns]\n"
     ]
    }
   ],
   "source": [
    "# load the data\n",
    "data = pd.read_csv('./data/tworek2016.csv')\n",
    "print(data.head())"
   ]
  },
  {
   "cell_type": "markdown",
   "metadata": {},
   "source": [
    "### Filter out data\n",
    "\n",
    "You may notice that this dataset includes an \"excluded\" column. When this is equal to 1, the participant was excluded from the study for various reasons. We can also reference the column named \"filter_$\" that is equal to 1 when that participant was included. We can use one of these columns to filter out all of the unnecessary data. \n",
    "\n",
    "To do this, we can use a simple pandas expression. If we use an expression like \n",
    "\n",
    "`data['filter_$'] == 1` \n",
    "\n",
    "inside the `[ ]`'s of the DataFrame variable, then we can retrieve only the data where the value in the `'filter_$'` column is equal to 1. Try this in the code below"
   ]
  },
  {
   "cell_type": "code",
   "execution_count": 17,
   "metadata": {},
   "outputs": [
    {
     "ename": "SyntaxError",
     "evalue": "invalid syntax (<ipython-input-17-1322db145238>, line 3)",
     "output_type": "error",
     "traceback": [
      "\u001b[0;36m  File \u001b[0;32m\"<ipython-input-17-1322db145238>\"\u001b[0;36m, line \u001b[0;32m3\u001b[0m\n\u001b[0;31m    filtered_data = data[]\u001b[0m\n\u001b[0m                         ^\u001b[0m\n\u001b[0;31mSyntaxError\u001b[0m\u001b[0;31m:\u001b[0m invalid syntax\n"
     ]
    }
   ],
   "source": [
    "# TODO: Complete the following code to filter out all of the participants that need to be excluded\n",
    "# using the filter_$ column\n",
    "filtered_data = data[]\n",
    "print(filtered_data.head())"
   ]
  },
  {
   "cell_type": "markdown",
   "metadata": {},
   "source": [
    "### Simple regression using `sklearn`\n",
    "\n",
    "We can use the `sklearn` module to easily do linear regression. "
   ]
  },
  {
   "cell_type": "code",
   "execution_count": 19,
   "metadata": {},
   "outputs": [],
   "source": [
    "# Sets x to be the Ought_Score values and y to be the Inherence_Bias values.\n",
    "# x had to be reshaped using .values.reshape(-1, 1) because it has only one feature.\n",
    "x = filtered_data['Inherence_Bias'].values.reshape(-1, 1)\n",
    "y = filtered_data['Ought_Score']\n",
    "\n",
    "# Fits the linear regression model to the data\n",
    "lm = linear_model.LinearRegression()\n",
    "model = lm.fit(x, y)"
   ]
  },
  {
   "cell_type": "markdown",
   "metadata": {},
   "source": [
    "We can access the R<sup>2</sup> result of the linear regression using the `score` function."
   ]
  },
  {
   "cell_type": "code",
   "execution_count": 20,
   "metadata": {},
   "outputs": [
    {
     "data": {
      "text/plain": [
       "0.09269136043436188"
      ]
     },
     "execution_count": 20,
     "metadata": {},
     "output_type": "execute_result"
    }
   ],
   "source": [
    "# output the R^2 result of the fitting\n",
    "lm.score(x, y)"
   ]
  },
  {
   "cell_type": "markdown",
   "metadata": {},
   "source": [
    "...and the coefficient(s)."
   ]
  },
  {
   "cell_type": "code",
   "execution_count": 22,
   "metadata": {},
   "outputs": [
    {
     "data": {
      "text/plain": [
       "array([0.29683265])"
      ]
     },
     "execution_count": 22,
     "metadata": {},
     "output_type": "execute_result"
    }
   ],
   "source": [
    "# output the coefficient (slope of the line in this case) for x\n",
    "lm.coef_"
   ]
  },
  {
   "cell_type": "markdown",
   "metadata": {},
   "source": [
    "Along with the intercept!"
   ]
  },
  {
   "cell_type": "code",
   "execution_count": 24,
   "metadata": {},
   "outputs": [
    {
     "data": {
      "text/plain": [
       "3.9105816212720557"
      ]
     },
     "execution_count": 24,
     "metadata": {},
     "output_type": "execute_result"
    }
   ],
   "source": [
    "# output the y-intercept of the line\n",
    "lm.intercept_"
   ]
  },
  {
   "cell_type": "markdown",
   "metadata": {},
   "source": [
    "### Multiple regression using `sklearn`\n",
    "\n",
    "It is easy to add more predictor variables to the regression model in `sklearn`. We just need to change our DataFrame to include multiple columns instead of just one. `pandas` makes this easy. For example, to include both `Inherence_Bias` and `educ` (Education level), all you would do is:\n",
    "\n",
    "`x2 = filtered_data[['Inherence_Bias', 'educ']]`\n",
    "\n",
    "To add more variables, just add commas and the appropriate string label for the column you want to add. Find the appropriate column labels for Raven’s Progressive matrix score, conservatism, and belief in a just world and add those to `x2` to do multiple regression. You may have to open the .csv file and examine the columns!"
   ]
  },
  {
   "cell_type": "code",
   "execution_count": 32,
   "metadata": {},
   "outputs": [
    {
     "data": {
      "text/plain": [
       "0.09673957792975474"
      ]
     },
     "execution_count": 32,
     "metadata": {},
     "output_type": "execute_result"
    }
   ],
   "source": [
    "# TODO: add more variables to this list!\n",
    "x2 = filtered_data[['Inherence_Bias', 'educ']]\n",
    "\n",
    "model2 = lm.fit(x2, y)\n",
    "lm.score(x2, y)"
   ]
  },
  {
   "cell_type": "code",
   "execution_count": 31,
   "metadata": {},
   "outputs": [
    {
     "data": {
      "text/plain": [
       "array([ 0.29243454, -0.07907961])"
      ]
     },
     "execution_count": 31,
     "metadata": {},
     "output_type": "execute_result"
    }
   ],
   "source": [
    "# output the coefficients of each predictor variable\n",
    "lm.coef_"
   ]
  },
  {
   "cell_type": "code",
   "execution_count": 29,
   "metadata": {},
   "outputs": [
    {
     "data": {
      "text/plain": [
       "4.660068892910393"
      ]
     },
     "execution_count": 29,
     "metadata": {},
     "output_type": "execute_result"
    }
   ],
   "source": [
    "# output the intercept of the resulting equation in multidimensional space\n",
    "lm.intercept_"
   ]
  }
 ],
 "metadata": {
  "kernelspec": {
   "display_name": "Python 3 (ds)",
   "language": "python",
   "name": "ds"
  },
  "language_info": {
   "codemirror_mode": {
    "name": "ipython",
    "version": 3
   },
   "file_extension": ".py",
   "mimetype": "text/x-python",
   "name": "python",
   "nbconvert_exporter": "python",
   "pygments_lexer": "ipython3",
   "version": "3.6.2"
  }
 },
 "nbformat": 4,
 "nbformat_minor": 2
}
