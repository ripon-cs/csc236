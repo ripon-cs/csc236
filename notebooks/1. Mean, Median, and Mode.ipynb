{
 "cells": [
  {
   "cell_type": "markdown",
   "metadata": {},
   "source": [
    "# 1. Mean, Median, and Mode Workbook\n",
    "\n",
    "The mean, median, and mode of a dataset are all known as **_measures of central tendency_**. They are known as such because they all offer different perspectives on trying to summarize data. You probably already know what mean, median, and mode are, but in this notebook we will be exploring their meaningful differences and why we might use one over the other when doing exploratory data analysis.\n",
    "\n",
    "As a review:\n",
    "\n",
    "**mean**: the sum of all items divided by the total number of items in the dataset.\n",
    "\n",
    "**median**: the item in the exact center of the distribution (when the data is placed in order)\n",
    "\n",
    "**mode**: the item that occurs most frequently\n",
    "\n",
    "Let's start by importing `pandas` and creating a DataFrame with some sample data. "
   ]
  },
  {
   "cell_type": "code",
   "execution_count": null,
   "metadata": {},
   "outputs": [],
   "source": [
    "# necessary imports and preamble\n",
    "%matplotlib inline\n",
    "import pandas as pd\n",
    "\n",
    "# create sample data\n",
    "data = pd.DataFrame([[10, 20, 30, 40], [7, 14, 21, 28], [55, 15, 8, 12],\n",
    "                   [15, 14, 1, 8], [7, 1, 1, 8], [5, 4, 9, 2]],\n",
    "                  columns=['Apple', 'Orange', 'Banana', 'Pear'],\n",
    "                  index=['Basket1', 'Basket2', 'Basket3', 'Basket4',\n",
    "                         'Basket5', 'Basket6'])"
   ]
  },
  {
   "cell_type": "markdown",
   "metadata": {},
   "source": [
    "## Calculating central tendency measures\n",
    "\n",
    "Calculating the mean, median, and mode using `pandas` is extremely simple! Just use the following functions:"
   ]
  },
  {
   "cell_type": "code",
   "execution_count": null,
   "metadata": {},
   "outputs": [],
   "source": [
    "print(\"\\n----------- Calculate Mean -----------\\n\")\n",
    "print(data.mean())\n",
    "\n",
    "print(\"\\n----------- Calculate Median -----------\\n\")\n",
    "print(data.median())\n",
    "\n",
    "print(\"\\n----------- Calculate Mode -----------\\n\")\n",
    "print(data.mode())"
   ]
  },
  {
   "cell_type": "markdown",
   "metadata": {},
   "source": [
    "As you can see, the previous code displays the mean, median, and mode for all of the columns. If you wanted to only calculate the measures for a specific column, you could do so in the following way by indexing the appropriate column:"
   ]
  },
  {
   "cell_type": "code",
   "execution_count": null,
   "metadata": {},
   "outputs": [],
   "source": [
    "print(\"\\n----------- Calculate Mean of Apples -----------\\n\")\n",
    "print(data['Apple'].mean())\n",
    "\n",
    "print(\"\\n----------- Calculate Median of Apples -----------\\n\")\n",
    "print(data['Apple'].median())\n",
    "\n",
    "print(\"\\n----------- Calculate Mode of Apples -----------\\n\")\n",
    "print(data['Apple'].mode())"
   ]
  },
  {
   "cell_type": "markdown",
   "metadata": {},
   "source": [
    "## Practice\n",
    "\n",
    "Try displaying only the mean, median, and mode for the column labeled 'Pear' by editing the code block below:"
   ]
  },
  {
   "cell_type": "code",
   "execution_count": null,
   "metadata": {},
   "outputs": [],
   "source": [
    "print(\"\\n----------- Calculate Mean of Pear -----------\\n\")\n",
    "print()\n",
    "\n",
    "print(\"\\n----------- Calculate Median of Pear -----------\\n\")\n",
    "print()\n",
    "\n",
    "print(\"\\n----------- Calculate Mode of Pear -----------\\n\")\n",
    "print()"
   ]
  },
  {
   "attachments": {},
   "cell_type": "markdown",
   "metadata": {},
   "source": [
    "## Resistant Statistics\n",
    "\n",
    "All three of these central tendency statistics are easy to calculate, but if you were to report just one of these, which should you choose? It depends. What is important to remember is that **the mean is very sensitive to extreme values, while the median is not.** The median is known as a **resistant statistic**.\n",
    "\n",
    "To illustrate this, read in (made up) data from a .csv file that represents the first-year annual starting salary for geography majors from UNC-Chapel Hill. In the following code block, change the name of the file being read in to `'data/first_year_annual_salaries.csv'`."
   ]
  },
  {
   "cell_type": "code",
   "execution_count": null,
   "metadata": {},
   "outputs": [],
   "source": [
    "# read in data from file. -- Change file name!\n",
    "df = pd.read_csv('filename')"
   ]
  },
  {
   "cell_type": "markdown",
   "metadata": {},
   "source": [
    "Now, calculate and display the mean and the median, and note the difference!"
   ]
  },
  {
   "cell_type": "code",
   "execution_count": null,
   "metadata": {},
   "outputs": [],
   "source": [
    "print(\"\\n----------- Calculate Mean of Salary Data -----------\\n\")\n",
    "print()\n",
    "\n",
    "print(\"\\n----------- Calculate Median of Salary Data -----------\\n\")\n",
    "print()"
   ]
  },
  {
   "cell_type": "markdown",
   "metadata": {},
   "source": [
    "Whoa, check out the difference! You should see a huge difference between the mean and the median! Why is this? We can explore this by displaying the data directly and plotting the histogram."
   ]
  },
  {
   "cell_type": "code",
   "execution_count": null,
   "metadata": {},
   "outputs": [],
   "source": [
    "# display the items in the dataset\n",
    "print(df)\n",
    "\n",
    "# display the histogram\n",
    "df.hist()"
   ]
  },
  {
   "cell_type": "markdown",
   "metadata": {},
   "source": [
    "Notice the outlier! The legend goes that the starting salary data for geography majors at UNC-Chapel Hill was skewed because of a person named Michael Jordan.\n",
    "\n",
    "**The lesson**: If the median and the mean are extremely different, then it might be a warning sign of a skewed distribution with outliers.\n",
    "\n",
    "This is why the median is called **resistant** while the mean is not. This usually makes it a better choice for exploratory data analysis because you don't want outliers to give you a skewed perspective on the data. Of course, this does not mean that the mean is useless and that you should always use the median. If you care about outliers and are actually interested in the average of the whole dataset, and not on what the \"average value of an average item\" is, then the mean might make more sense."
   ]
  }
 ],
 "metadata": {
  "kernelspec": {
   "display_name": "Python 3",
   "language": "python",
   "name": "python3"
  },
  "language_info": {
   "codemirror_mode": {
    "name": "ipython",
    "version": 3
   },
   "file_extension": ".py",
   "mimetype": "text/x-python",
   "name": "python",
   "nbconvert_exporter": "python",
   "pygments_lexer": "ipython3",
   "version": "3.6.3"
  }
 },
 "nbformat": 4,
 "nbformat_minor": 2
}
